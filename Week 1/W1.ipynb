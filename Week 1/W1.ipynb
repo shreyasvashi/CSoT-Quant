{
 "cells": [
  {
   "cell_type": "code",
   "execution_count": 2,
   "id": "aee480f6-c862-4db6-9c63-bc2c6baa2ddc",
   "metadata": {},
   "outputs": [
    {
     "name": "stdout",
     "output_type": "stream",
     "text": [
      " Most Volatile Month for: amzn\n",
      " Most Volatile Month: 2008-09-29 to 2008-10-28\n",
      " Maximum Rolling Volatility: 6.942334931099093\n",
      " Stock with Highest Average Return: amzn\n",
      " Highest Average Return: 0.15461187733581844\n",
      "None\n"
     ]
    }
   ],
   "source": [
    "# Required modules are imported\n",
    "from pathlib import Path\n",
    "import pandas as pd\n",
    "import glob\n",
    "from pandas.tseries.offsets import DateOffset\n",
    "\n",
    "# All CSV file paths from the '5Stocks' folder in Downloads are collected\n",
    "def locate(loc):\n",
    "    return glob.glob(f'{loc}/*.csv')\n",
    "\n",
    "# Each CSV file is read into a DataFrame\n",
    "# 'Date' is used as the index and is parsed as a datetime object\n",
    "# A dictionary of DataFrames is created, keyed by the filename\n",
    "# All the individual DataFrames are concatenated into a single MultiIndex DataFrame\n",
    "# The index levels are set as 'ticker' and 'Date'\n",
    "def joiner(loc):\n",
    "    sepdfs = {ind.split('/')[-1].split('.')[0]: pd.read_csv(ind, index_col='Date', parse_dates=True)for ind in locate(loc)}\n",
    "    return pd.concat(sepdfs, names=['ticker'])\n",
    "\n",
    "# The data is filtered to include only rows from the year 2007 onwards\n",
    "def sieve(loc):\n",
    "    dates = joiner(loc).index.get_level_values('Date')\n",
    "    only10 = dates.year >= 2007\n",
    "    return joiner(loc)[only10].sort_index()\n",
    "\n",
    "# Missing 'Close' values are handled\n",
    "# Short gaps (3 days or fewer) are interpolated linearly and remaining missing values (in longer gaps) are back-filled\n",
    "def fillin(loc):\n",
    "    stocks10y=sieve(loc)\n",
    "    g = stocks10y['Close'].isna().cumsum().where(stocks10y['Close'].isna())\n",
    "    stocks10y['Close'] = stocks10y['Close'].where(g.map(g.value_counts()) > 3,stocks10y['Close'].interpolate('linear'))\n",
    "    stocks10y['Close'] = stocks10y['Close'].bfill()\n",
    "    return stocks10y\n",
    "\n",
    "# Markers like the 7-day moving average(closing price), 30-day moving average(closing price), Daily percentage return, 30-day rolling volatility (standard deviation of returns) of the stocks are calculated.\n",
    "def markers(loc):\n",
    "    onekey = (fillin(loc).reset_index().sort_values(by=['ticker', 'Date', 'Close']))\n",
    "    onekey['7DMA'] = (onekey.groupby('ticker')['Close'].rolling(window=7, min_periods=0).mean().reset_index(level=0, drop=True))\n",
    "    onekey['30DMA'] = (onekey.groupby('ticker')['Close'].rolling(window=30, min_periods=0).mean().reset_index(level=0, drop=True))\n",
    "    onekey['Return'] = (onekey.groupby('ticker')['Close'].pct_change() * 100)\n",
    "    onekey['RV30'] = (onekey.groupby('ticker')['Return'].rolling(window=30, min_periods=0).std().reset_index(level=0, drop=True))\n",
    "    return onekey\n",
    "\n",
    "# The DataFrame is converted back to a MultiIndexed format and things like the most volatile 30-day period, stock with the highest average return are identified and summary statistics are printed.\n",
    "def results(loc):\n",
    "    stocksf = markers(loc).set_index(['ticker', 'Date'])\n",
    "    onekey=markers(loc)\n",
    "    onlypost30days = onekey[onekey.groupby('ticker').cumcount() >= 29]\n",
    "    maxvol = onlypost30days.loc[onlypost30days['RV30'].idxmax()]\n",
    "    avret = onekey.groupby('ticker')['Return'].mean()\n",
    "    retstock = avret.idxmax()\n",
    "    maxavret = avret.max()\n",
    "    print(f' Most Volatile Month for: {maxvol[\"ticker\"]}\\n',f'Most Volatile Month: {(maxvol[\"Date\"] - pd.Timedelta(days=29)).date()} to {maxvol[\"Date\"].date()}\\n',f'Maximum Rolling Volatility: {maxvol[\"RV30\"]}')\n",
    "    print(f' Stock with Highest Average Return: {retstock}\\n',f'Highest Average Return: {maxavret}')\n",
    "\n",
    "print(results(Path.home() / 'Downloads' / '5Stocks'))\n",
    "#The argument is where your 5 stock .csvs are stored in your computer."
   ]
  },
  {
   "cell_type": "code",
   "execution_count": null,
   "id": "2effa71c-0526-4647-8e28-a10291f0815e",
   "metadata": {},
   "outputs": [],
   "source": []
  }
 ],
 "metadata": {
  "kernelspec": {
   "display_name": "Python [conda env:base] *",
   "language": "python",
   "name": "conda-base-py"
  },
  "language_info": {
   "codemirror_mode": {
    "name": "ipython",
    "version": 3
   },
   "file_extension": ".py",
   "mimetype": "text/x-python",
   "name": "python",
   "nbconvert_exporter": "python",
   "pygments_lexer": "ipython3",
   "version": "3.12.7"
  }
 },
 "nbformat": 4,
 "nbformat_minor": 5
}
