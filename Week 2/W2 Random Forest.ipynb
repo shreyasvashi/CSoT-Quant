{
 "cells": [
  {
   "cell_type": "markdown",
   "id": "21a98fff",
   "metadata": {},
   "source": [
    "\n",
    "# Stock Price Prediction Using Random Forest\n",
    "\n",
    "This notebook demonstrates how to predict stock closing prices using a Random Forest regression model. \n",
    "\n",
    "The approach includes:\n",
    "\n",
    "- Handling missing data\n",
    "- Engineering financial indicators such as moving averages and RSI\n",
    "- Training and testing a regression model\n",
    "- Evaluating model performance\n"
   ]
  },
  {
   "cell_type": "markdown",
   "id": "35552572",
   "metadata": {},
   "source": [
    "\n",
    "## Features Used\n",
    "\n",
    "- **7DMA**: 7-day moving average of the closing price\n",
    "- **30DMA**: 30-day moving average of the closing price\n",
    "- **RSI**: Relative Strength Index (14-day)\n",
    "\n",
    "## Functions\n",
    "\n",
    "- `dt(loc)`: Loads the CSV dataset from the given path.\n",
    "- `fillin(loc)`: Fills missing `Close` values with forward fill.\n",
    "- `markers(loc)`: Adds 7DMA, 30DMA, Return, and RSI to the dataset.\n",
    "- `ins(loc)`: Prepares feature columns for model input.\n",
    "- `outs(loc)`: Prepares target column for model output.\n",
    "- `randomf(loc)`: Trains the model, evaluates it, and prints performance metrics.\n"
   ]
  },
  {
   "cell_type": "code",
   "execution_count": 1,
   "id": "0384bf1d",
   "metadata": {},
   "outputs": [],
   "source": [
    "\n",
    "import pandas as pd\n",
    "import numpy as np\n",
    "from sklearn.ensemble import RandomForestRegressor\n",
    "from pathlib import Path\n",
    "from sklearn.model_selection import train_test_split\n",
    "from sklearn.metrics import r2_score, mean_absolute_error\n"
   ]
  },
  {
   "cell_type": "code",
   "execution_count": 2,
   "id": "1b28aa37",
   "metadata": {},
   "outputs": [],
   "source": [
    "\n",
    "def dt(loc):\n",
    "    # CSV file is loaded with parsing of dates enabled\n",
    "    stock = pd.read_csv(loc, parse_dates=True)\n",
    "    return stock\n",
    "\n",
    "def fillin(loc):\n",
    "    # Data is loaded and missing closing prices are forward-filled\n",
    "    stock = dt(loc)\n",
    "    stock['Close'] = stock['Close'].ffill()\n",
    "    return stock\n",
    "\n",
    "def markers(loc):\n",
    "    # Moving averages, percentage return, and RSI are computed and added\n",
    "    stock = fillin(loc)\n",
    "    stock['7DMA'] = stock['Close'].shift(1).rolling(window=7, min_periods=0).mean()\n",
    "    stock['30DMA'] = stock['Close'].shift(1).rolling(window=30, min_periods=0).mean()\n",
    "    stock['Return'] = stock['Close'].shift(1).pct_change() * 100\n",
    "\n",
    "    change = stock['Close'].diff()\n",
    "    avgain = change.where(change > 0, 0).shift(1).rolling(window=14, min_periods=1).sum() / 14\n",
    "    avloss = abs(change.where(change < 0, 0).shift(1).rolling(window=14, min_periods=1).sum()) / 14\n",
    "    stock['RSI'] = (avgain / (avgain + avloss)) * 100\n",
    "\n",
    "    return stock\n"
   ]
  },
  {
   "cell_type": "code",
   "execution_count": 3,
   "id": "a8e22803",
   "metadata": {},
   "outputs": [],
   "source": [
    "\n",
    "def ins(loc):\n",
    "    # Features are extracted from computed indicators\n",
    "    stock = markers(loc)\n",
    "    inputs = pd.DataFrame()\n",
    "    inputs['7DMA'] = stock['7DMA']\n",
    "    inputs['30DMA'] = stock['30DMA']\n",
    "    inputs['RSI'] = stock['RSI']\n",
    "    return inputs\n",
    "\n",
    "def outs(loc):\n",
    "    # Closing price is extracted as the target\n",
    "    stock = markers(loc)\n",
    "    outputs = pd.DataFrame()\n",
    "    outputs['Close'] = stock['Close']\n",
    "    return outputs\n"
   ]
  },
  {
   "cell_type": "code",
   "execution_count": 4,
   "id": "10a8570e",
   "metadata": {},
   "outputs": [],
   "source": [
    "\n",
    "def randomf(loc):\n",
    "    # Data is split, model is trained, and metrics are reported\n",
    "    inputs = ins(loc)\n",
    "    outputs = outs(loc)\n",
    "\n",
    "    intrain, intest, outtrain, outtest = train_test_split(inputs, outputs, test_size=0.2, random_state=21)\n",
    "\n",
    "    rf = RandomForestRegressor(n_estimators=100, random_state=42)\n",
    "    rf.fit(intrain, outtrain.values.ravel())  # Flatten output to 1D\n",
    "\n",
    "    predout = rf.predict(intest)\n",
    "\n",
    "    print(\"Mean Absolute Error:\", mean_absolute_error(outtest, predout))\n",
    "    print(\"R^2 Score:\", r2_score(outtest, predout))\n"
   ]
  },
  {
   "cell_type": "code",
   "execution_count": 8,
   "id": "71db625a",
   "metadata": {},
   "outputs": [
    {
     "name": "stdout",
     "output_type": "stream",
     "text": [
      "Mean Absolute Error: 3.7729301648884626\n",
      "R^2 Score: 0.9989974862796147\n",
      "None\n"
     ]
    }
   ],
   "source": [
    "\n",
    "# Replace this path with your own\n",
    "print(randomf(Path.home() / 'Downloads' / 'Amazon' / 'amzn.us.csv'))\n"
   ]
  }
 ],
 "metadata": {
  "kernelspec": {
   "display_name": "Python [conda env:base] *",
   "language": "python",
   "name": "conda-base-py"
  },
  "language_info": {
   "codemirror_mode": {
    "name": "ipython",
    "version": 3
   },
   "file_extension": ".py",
   "mimetype": "text/x-python",
   "name": "python",
   "nbconvert_exporter": "python",
   "pygments_lexer": "ipython3",
   "version": "3.12.7"
  }
 },
 "nbformat": 4,
 "nbformat_minor": 5
}
