{
 "cells": [
  {
   "cell_type": "markdown",
   "metadata": {},
   "source": [
    "# Stock Price Prediction Using Random Forest\n",
    "\n",
    "Stock closing prices are predicted using a Random Forest regression model. The approach includes handling of missing data, engineering of financial indicators, model training, evaluation, and trading signal generation."
   ]
  },
  {
   "cell_type": "markdown",
   "metadata": {},
   "source": [
    "## Features Used\n",
    "\n",
    "- **7DMA**: 7-day moving average of the closing price\n",
    "- **30DMA**: 30-day moving average of the closing price\n",
    "- **RSI**: Relative Strength Index (14-day)\n",
    "\n",
    "## Functions\n",
    "\n",
    "- `dt(loc)`: The CSV dataset is loaded with date parsing enabled.\n",
    "- `fillin(loc)`: Missing 'Close' values are forward-filled.\n",
    "- `markers(loc)`: 7DMA, 30DMA, Return, and RSI are computed and added to the dataset.\n",
    "- `ins(loc)`: Feature columns are prepared for model input.\n",
    "- `outs(loc)`: The closing price is prepared as the target for model output.\n",
    "- `randomf(loc)`: The Random Forest model is trained, evaluated, and performance metrics are reported."
   ]
  },
  {
   "cell_type": "code",
   "execution_count": 1,
   "metadata": {},
   "outputs": [],
   "source": [
    "import pandas as pd\n",
    "import numpy as np\n",
    "from sklearn.ensemble import RandomForestRegressor\n",
    "from pathlib import Path\n",
    "from sklearn.model_selection import train_test_split\n",
    "from sklearn.metrics import r2_score, mean_absolute_error\n",
    "import matplotlib.pyplot as plt"
   ]
  },
  {
   "cell_type": "code",
   "execution_count": 2,
   "metadata": {},
   "outputs": [],
   "source": [
    "def dt(loc):\n",
    "    stock = pd.read_csv(loc, parse_dates=True)\n",
    "    return stock\n",
    "\n",
    "def fillin(loc):\n",
    "    stock = dt(loc)\n",
    "    stock['Close'] = stock['Close'].ffill()\n",
    "    return stock\n",
    "\n",
    "def markers(loc):\n",
    "    stock = fillin(loc)\n",
    "    stock['7DMA'] = stock['Close'].shift(1).rolling(window=7, min_periods=0).mean()\n",
    "    stock['30DMA'] = stock['Close'].shift(1).rolling(window=30, min_periods=0).mean()\n",
    "    stock['Return'] = stock['Close'].shift(1).pct_change() * 100\n",
    "    change = stock['Close'].diff()\n",
    "    avgain = change.where(change > 0, 0).shift(1).rolling(window=14, min_periods=1).sum() / 14\n",
    "    avloss = abs(change.where(change < 0, 0).shift(1).rolling(window=14, min_periods=1).sum()) / 14\n",
    "    stock['RSI'] = (avgain / (avgain + avloss)) * 100\n",
    "    return stock"
   ]
  },
  {
   "cell_type": "code",
   "execution_count": 3,
   "metadata": {},
   "outputs": [],
   "source": [
    "def ins(loc):\n",
    "    stock = markers(loc)\n",
    "    inputs = pd.DataFrame()\n",
    "    inputs['7DMA'] = stock['7DMA']\n",
    "    inputs['30DMA'] = stock['30DMA']\n",
    "    inputs['RSI'] = stock['RSI']\n",
    "    return inputs\n",
    "\n",
    "def outs(loc):\n",
    "    stock = markers(loc)\n",
    "    outputs = pd.DataFrame()\n",
    "    outputs['Close'] = stock['Close']\n",
    "    return outputs"
   ]
  },
  {
   "cell_type": "code",
   "execution_count": 4,
   "metadata": {},
   "outputs": [],
   "source": [
    "def randomf(loc):\n",
    "    inputs = ins(loc)\n",
    "    outputs = outs(loc)\n",
    "    stock = markers(loc)\n",
    "    intrain, intest, outtrain, outtest = train_test_split(inputs, outputs, test_size=0.2, shuffle=False)\n",
    "    rf = RandomForestRegressor(n_estimators=100, random_state=42)\n",
    "    rf.fit(intrain, outtrain.values.ravel())\n",
    "    predout = rf.predict(intest)\n",
    "    stock['Predicted'] = np.nan\n",
    "    stock.loc[intest.index, 'Predicted'] = predout\n",
    "    print(\"Mean Absolute Error:\", mean_absolute_error(outtest, predout))\n",
    "    print(\"R^2 Score:\", r2_score(outtest, predout))\n",
    "    return stock"
   ]
  },
  {
   "cell_type": "code",
   "execution_count": 5,
   "metadata": {},
   "outputs": [],
   "source": [
    "def signal(loc):\n",
    "    stock = randomf(loc)\n",
    "    trainp = stock[stock['Predicted'].isna()]\n",
    "    testp = stock[stock['Predicted'].notna()].copy()\n",
    "    lastknown = trainp['Close'].iloc[-1]\n",
    "    testp['Signal'] = np.where(testp['Predicted'] > lastknown, 'Buy', 'Sell')\n",
    "    testp['Profit'] = abs(testp['Predicted'] - lastknown)\n",
    "    print('Maximum Possible Profit in Test Period:', testp['Predicted'].max() - lastknown)\n",
    "    print('Best Date to Sell:', testp.loc[testp['Predicted'].idxmax()])\n",
    "    return testp"
   ]
  },
  {
   "cell_type": "markdown",
   "metadata": {},
   "source": [
    "## Model Execution\n",
    "\n",
    "The Random Forest regression model is executed on the dataset. Model performance, trading signals, and profit calculations are displayed."
   ]
  },
  {
   "cell_type": "code",
   "execution_count": 6,
   "metadata": {},
   "outputs": [
    {
     "name": "stdout",
     "output_type": "stream",
     "text": [
      "Mean Absolute Error: 281.1305215324929\n",
      "R^2 Score: -1.3661743871262022\n",
      "Maximum Possible Profit in Test Period: 16.075300000000198\n",
      "Best Date to Sell: Date         2013-12-26\n",
      "Open             401.79\n",
      "High             404.52\n",
      "Low              396.81\n",
      "Close            404.39\n",
      "Volume          1869140\n",
      "OpenInt               0\n",
      "7DMA         396.012857\n",
      "30DMA        381.412667\n",
      "Return         -0.92326\n",
      "RSI           64.717652\n",
      "Predicted      314.3053\n",
      "Signal              Buy\n",
      "Profit          16.0753\n",
      "Name: 4175, dtype: object\n",
      "            Date     Open     High      Low    Close   Volume  OpenInt  \\\n",
      "4122  2013-10-10   304.65   306.70   302.59   305.17  2556190        0   \n",
      "4123  2013-10-11   304.77   310.93   303.84   310.89  2162268        0   \n",
      "4124  2013-10-14   309.22   311.64   307.00   310.70  1938900        0   \n",
      "4125  2013-10-15   309.92   310.79   305.26   306.40  2261100        0   \n",
      "4126  2013-10-16   308.38   310.80   305.55   310.49  2178262        0   \n",
      "...          ...      ...      ...      ...      ...      ...      ...   \n",
      "5148  2017-11-06  1109.15  1125.41  1108.77  1120.66  3331738        0   \n",
      "5149  2017-11-07  1124.74  1130.60  1117.50  1123.17  2684443        0   \n",
      "5150  2017-11-08  1122.82  1135.54  1119.11  1132.88  2576010        0   \n",
      "5151  2017-11-09  1125.96  1129.62  1115.77  1129.13  3729978        0   \n",
      "5152  2017-11-10  1126.10  1131.75  1124.06  1125.35  2179181        0   \n",
      "\n",
      "             7DMA        30DMA    Return        RSI  Predicted Signal   Profit  \n",
      "4122   312.392857   304.262667 -1.648913  39.159743   300.6657    Buy   2.4357  \n",
      "4123   310.138571   305.049000  2.327063  41.595184   300.5310    Buy   2.3010  \n",
      "4124   308.764286   305.946000  1.874365  49.554367   302.4537    Buy   4.2237  \n",
      "4125   308.184286   306.936667 -0.061115  47.356251   301.7875    Buy   3.5575  \n",
      "4126   306.378571   307.523333 -1.383972  45.383365   299.0033    Buy   0.7733  \n",
      "...           ...          ...       ...        ...        ...    ...      ...  \n",
      "5148  1085.572857  1002.409333  1.588346  72.771720   313.0234    Buy  14.7934  \n",
      "5149  1106.748571  1008.438333  0.815041  73.490880   313.0596    Buy  14.8296  \n",
      "5150  1109.922857  1014.590667  0.223975  77.696799   312.8147    Buy  14.5847  \n",
      "5151  1113.070000  1020.657667  0.864517  82.205293   312.8964    Buy  14.6664  \n",
      "5152  1116.477143  1026.415333 -0.331015  82.187197   312.8964    Buy  14.6664  \n",
      "\n",
      "[1031 rows x 14 columns]\n"
     ]
    }
   ],
   "source": [
    "# Replace this path with your own\n",
    "print(signal(Path.home() / 'Downloads' / 'Amazon' / 'amzn.us.csv'))"
   ]
  }
 ],
 "metadata": {
  "kernelspec": {
   "display_name": "Python 3",
   "language": "python",
   "name": "python3"
  },
  "language_info": {
   "codemirror_mode": {
    "name": "ipython",
    "version": 3
   },
   "file_extension": ".py",
   "mimetype": "text/x-python",
   "name": "python",
   "nbconvert_exporter": "python",
   "pygments_lexer": "ipython3",
   "version": "3.12.4"
  }
 },
 "nbformat": 4,
 "nbformat_minor": 5
}
