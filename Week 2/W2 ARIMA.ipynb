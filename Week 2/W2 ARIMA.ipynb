{
 "cells": [
  {
   "cell_type": "markdown",
   "id": "c123ee7b",
   "metadata": {},
   "source": [
    "# ARIMA Forecasting on Stock Price Data\n",
    "\n",
    "This notebook performs time series analysis using an ARIMA(0,1,0) model on stock price data. It includes missing value handling, technical indicator computation, and forecast visualization."
   ]
  },
  {
   "cell_type": "code",
   "execution_count": null,
   "id": "854d898c",
   "metadata": {},
   "outputs": [],
   "source": [
    "import pandas as pd\n",
    "import numpy as np\n",
    "from sklearn.ensemble import RandomForestRegressor\n",
    "from pathlib import Path\n",
    "from sklearn.model_selection import train_test_split\n",
    "from sklearn.metrics import r2_score, mean_absolute_error\n",
    "import matplotlib.pyplot as plt\n",
    "from statsmodels.tsa.arima.model import ARIMA"
   ]
  },
  {
   "cell_type": "markdown",
   "id": "c4c40cc5",
   "metadata": {},
   "source": [
    "## Function: `dt(loc)`\n",
    "Reads a CSV file containing stock data and parses dates."
   ]
  },
  {
   "cell_type": "code",
   "execution_count": null,
   "id": "14e7ae4f",
   "metadata": {},
   "outputs": [],
   "source": [
    "def dt(loc):\n",
    "    # Read CSV file and parse dates\n",
    "    stock = pd.read_csv(loc, parse_dates=True)\n",
    "    return stock"
   ]
  },
  {
   "cell_type": "markdown",
   "id": "0099bcdf",
   "metadata": {},
   "source": [
    "## Function: `fillin(loc)`\n",
    "Handles missing values in the 'Close' column using linear interpolation and backfilling."
   ]
  },
  {
   "cell_type": "code",
   "execution_count": null,
   "id": "61bb2be2",
   "metadata": {},
   "outputs": [],
   "source": [
    "def fillin(loc):\n",
    "    stock = dt(loc)\n",
    "    # Identify and interpolate missing values where gaps are small\n",
    "    g = stock['Close'].isna().cumsum().where(stock['Close'].isna())\n",
    "    stock['Close'] = stock['Close'].where(g.map(g.value_counts()) > 3, stock['Close'].interpolate('linear'))\n",
    "    # Backfill any remaining missing values\n",
    "    stock['Close'] = stock['Close'].bfill()\n",
    "    return stock"
   ]
  },
  {
   "cell_type": "markdown",
   "id": "2c0c4d16",
   "metadata": {},
   "source": [
    "## Function: `markers(loc)`\n",
    "Computes moving averages (7-day and 30-day), returns, and RSI for the stock data."
   ]
  },
  {
   "cell_type": "code",
   "execution_count": null,
   "id": "650d786a",
   "metadata": {},
   "outputs": [],
   "source": [
    "def markers(loc):\n",
    "    stock = fillin(loc)\n",
    "    # Calculate 7-day and 30-day moving averages (excluding current day)\n",
    "    stock['7DMA'] = stock['Close'].shift(1).rolling(window=7, min_periods=0).mean()\n",
    "    stock['30DMA'] = stock['Close'].shift(1).rolling(window=30, min_periods=0).mean()\n",
    "    # Calculate daily returns as percent change\n",
    "    stock['Return'] = stock['Close'].shift(1).pct_change() * 100\n",
    "    # Calculate RSI (Relative Strength Index)\n",
    "    change = stock['Close'].diff()\n",
    "    avgain = change.where(change > 0, 0).shift(1).rolling(window=14, min_periods=1).sum() / 14\n",
    "    avloss = abs(change.where(change < 0, 0).shift(1).rolling(window=14, min_periods=1).sum()) / 14\n",
    "    stock['RSI'] = (avgain / (avgain + avloss)) * 100\n",
    "    return stock"
   ]
  },
  {
   "cell_type": "markdown",
   "id": "935b096b",
   "metadata": {},
   "source": [
    "## Function: `ins(loc)`\n",
    "Extracts the 'Close' column for modeling purposes."
   ]
  },
  {
   "cell_type": "code",
   "execution_count": null,
   "id": "f0586de3",
   "metadata": {},
   "outputs": [],
   "source": [
    "def ins(loc):\n",
    "    stock = markers(loc)\n",
    "    inp = pd.DataFrame()\n",
    "    inp['Close'] = stock['Close']\n",
    "    return inp"
   ]
  },
  {
   "cell_type": "markdown",
   "id": "3dbc2ef2",
   "metadata": {},
   "source": [
    "## Function: `arima(loc)`\n",
    "Fits an ARIMA(0,1,0) model to the training data, generates forecasts, and visualizes the results with confidence intervals."
   ]
  },
  {
   "cell_type": "code",
   "execution_count": null,
   "id": "11079d7e",
   "metadata": {},
   "outputs": [],
   "source": [
    "def arima(loc):\n",
    "    inp = ins(loc)\n",
    "    # Split data into training and testing sets (80% train, 20% test)\n",
    "    dtrain, dtest = inp[:int(len(inp) * 0.8)], inp[int(len(inp) * 0.8):]\n",
    "    # Fit ARIMA(0,1,0) model (random walk with drift)\n",
    "    makem = ARIMA(dtrain, order=(0, 1, 0))\n",
    "    fitm = makem.fit()\n",
    "    # Forecast for the length of the test set\n",
    "    pred = fitm.get_forecast(steps=len(dtest))\n",
    "    predmean = pred.predicted_mean\n",
    "    confint = pred.conf_int()\n",
    "    # Calculate and print MAE (Mean Absolute Error)\n",
    "    mae = mean_absolute_error(dtest['Close'], predmean)\n",
    "    print(f'MAE: {mae:.2f}')\n",
    "    # Plot training data, actual test values, and forecast with confidence intervals\n",
    "    plt.figure(figsize=(12, 6))\n",
    "    plt.plot(dtrain.index, dtrain['Close'], label='Train')\n",
    "    plt.plot(dtest.index, dtest['Close'], label='Actual')\n",
    "    plt.plot(dtest.index, predmean, color='red', label='Prediction')\n",
    "    plt.fill_between(dtest.index, confint.iloc[:, 0], confint.iloc[:, 1], color='pink', alpha=0.3)\n",
    "    plt.xlabel('Index')\n",
    "    plt.ylabel('Close Price')\n",
    "    plt.title('ARIMA(0,1,0) Forecast vs Actual')\n",
    "    plt.legend()\n",
    "    plt.show()"
   ]
  },
  {
   "cell_type": "markdown",
   "id": "e10cb626",
   "metadata": {},
   "source": [
    "## Running the ARIMA Model"
   ]
  },
  {
   "cell_type": "code",
   "execution_count": null,
   "id": "6da0a813",
   "metadata": {},
   "outputs": [],
   "source": [
    "arima(Path.home() / 'Downloads' / 'Amazon' / 'amzn.us.csv')"
   ]
  }
 ],
 "metadata": {},
 "nbformat": 4,
 "nbformat_minor": 5
}
