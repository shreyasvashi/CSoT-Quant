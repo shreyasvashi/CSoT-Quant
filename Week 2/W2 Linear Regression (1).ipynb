{
 "cells": [
  {
   "cell_type": "markdown",
   "metadata": {},
   "source": [
    "# Stock Price Prediction Using Linear Regression\n",
    "\n",
    "This notebook demonstrates how stock closing prices are predicted using a linear regression model. The workflow includes data loading, feature engineering, data cleaning, model training, and evaluation."
   ]
  },
  {
   "cell_type": "markdown",
   "metadata": {},
   "source": [
    "## Features Used\n",
    "\n",
    "- **7DMA**: 7-day moving average of the closing price\n",
    "- **30DMA**: 30-day moving average of the closing price\n",
    "- **RSI**: Relative Strength Index (14-day)"
   ]
  },
  {
   "cell_type": "markdown",
   "metadata": {},
   "source": [
    "## Functions\n",
    "\n",
    "- `dt(loc)`: The CSV dataset is loaded from the given path.\n",
    "- `fillin(loc)`: Missing `Close` values are filled using forward fill.\n",
    "- `markers(loc)`: 7DMA, 30DMA, Return, and RSI are added to the dataset.\n",
    "- `ins(loc)`: Feature columns are prepared for model input.\n",
    "- `outs(loc)`: The target column is prepared for model output.\n",
    "- `linreg(loc)`: The model is trained, evaluated, and performance metrics are printed."
   ]
  },
  {
   "cell_type": "markdown",
   "metadata": {},
   "source": [
    "Required libraries are imported for data manipulation, model training, and evaluation."
   ]
  },
  {
   "cell_type": "code",
   "metadata": {},
   "source": [
    "import pandas as pd\n",
    "import numpy as np\n",
    "from sklearn.linear_model import LinearRegression\n",
    "from pathlib import Path\n",
    "from sklearn.model_selection import train_test_split\n",
    "from sklearn.metrics import r2_score, mean_absolute_error\n",
    "import matplotlib.pyplot as plt\n",
    "from sklearn.preprocessing import StandardScaler"
   ],
   "execution_count": null,
   "outputs": []
  },
  {
   "cell_type": "markdown",
   "metadata": {},
   "source": [
    "Data loading and preprocessing functions are defined. The dataset is loaded, missing values are handled, and technical indicators are computed."
   ]
  },
  {
   "cell_type": "code",
   "metadata": {},
   "source": [
    "def dt(loc):\n",
    "    # The CSV file is loaded with date parsing enabled.\n",
    "    stock = pd.read_csv(loc, parse_dates=True)\n",
    "    return stock\n",
    "\n",
    "def fillin(loc):\n",
    "    # Missing 'Close' values are interpolated and backfilled.\n",
    "    stock = dt(loc)\n",
    "    g = stock['Close'].isna().cumsum().where(stock['Close'].isna())\n",
    "    stock['Close'] = stock['Close'].where(g.map(g.value_counts()) > 3, stock['Close'].interpolate('linear'))\n",
    "    stock['Close'] = stock['Close'].bfill()\n",
    "    return stock\n",
    "\n",
    "def markers(loc):\n",
    "    # Moving averages, percentage return, and RSI are computed and added.\n",
    "    stock = fillin(loc)\n",
    "    stock['7DMA'] = stock['Close'].shift(1).rolling(window=7, min_periods=0).mean()\n",
    "    stock['30DMA'] = stock['Close'].shift(1).rolling(window=30, min_periods=0).mean()\n",
    "    stock['Return'] = stock['Close'].shift(1).pct_change() * 100\n",
    "\n",
    "    change = stock['Close'].diff()\n",
    "    avgain = change.where(change > 0, 0).shift(1).rolling(window=14, min_periods=1).sum() / 14\n",
    "    avloss = abs(change.where(change < 0, 0).shift(1).rolling(window=14, min_periods=1).sum()) / 14\n",
    "    stock['RSI'] = (avgain / (avgain + avloss)) * 100\n",
    "\n",
    "    return stock"
   ],
   "execution_count": null,
   "outputs": []
  },
  {
   "cell_type": "markdown",
   "metadata": {},
   "source": [
    "Data cleaning is performed to handle any remaining missing values in the engineered features."
   ]
  },
  {
   "cell_type": "code",
   "metadata": {},
   "source": [
    "def clean(loc):\n",
    "    # Missing values in 7DMA, 30DMA, and RSI are interpolated and backfilled.\n",
    "    stock = markers(loc)\n",
    "    g = stock['7DMA'].isna().cumsum().where(stock['7DMA'].isna())\n",
    "    stock['7DMA'] = stock['7DMA'].where(g.map(g.value_counts()) > 3, stock['7DMA'].interpolate('linear'))\n",
    "    stock['7DMA'] = stock['7DMA'].bfill()\n",
    "    g = stock['30DMA'].isna().cumsum().where(stock['30DMA'].isna())\n",
    "    stock['30DMA'] = stock['30DMA'].where(g.map(g.value_counts()) > 3, stock['30DMA'].interpolate('linear'))\n",
    "    stock['30DMA'] = stock['30DMA'].bfill()\n",
    "    g = stock['RSI'].isna().cumsum().where(stock['RSI'].isna())\n",
    "    stock['RSI'] = stock['RSI'].where(g.map(g.value_counts()) > 3, stock['RSI'].interpolate('linear'))\n",
    "    stock['RSI'] = stock['RSI'].bfill()\n",
    "    return stock"
   ],
   "execution_count": null,
   "outputs": []
  },
  {
   "cell_type": "markdown",
   "metadata": {},
   "source": [
    "Feature and target extraction functions are defined. Features and targets are extracted for model training and evaluation."
   ]
  },
  {
   "cell_type": "code",
   "metadata": {},
   "source": [
    "def ins(loc):\n",
    "    # Features are extracted from computed indicators.\n",
    "    stock = clean(loc)\n",
    "    inputs = pd.DataFrame()\n",
    "    inputs['7DMA'] = stock['7DMA']\n",
    "    inputs['30DMA'] = stock['30DMA']\n",
    "    inputs['RSI'] = stock['RSI']\n",
    "    return inputs\n",
    "\n",
    "def outs(loc):\n",
    "    # The closing price is extracted as the target.\n",
    "    stock = clean(loc)\n",
    "    outputs = pd.DataFrame()\n",
    "    outputs['Close'] = stock['Close']\n",
    "    return outputs"
   ],
   "execution_count": null,
   "outputs": []
  },
  {
   "cell_type": "markdown",
   "metadata": {},
   "source": [
    "The linear regression workflow is defined. Data is split, the model is trained, predictions are made, and performance metrics are reported."
   ]
  },
  {
   "cell_type": "code",
   "metadata": {},
   "source": [
    "def linreg(loc):\n",
    "    # Data is split, the model is trained, and metrics are reported.\n",
    "    inputs = ins(loc)\n",
    "    outputs = outs(loc)\n",
    "    intrain, intest, outtrain, outtest = train_test_split(inputs, outputs, test_size=0.2, shuffle=False)\n",
    "    lr = LinearRegression()\n",
    "    lr.fit(intrain, outtrain)\n",
    "    pred = lr.predict(intest)\n",
    "    print(f\"Coefficients: {lr.coef_}\")\n",
    "    print(f\"Intercept: {lr.intercept_}\")\n",
    "    print(\"Mean Absolute Error:\", mean_absolute_error(outtest, pred))\n",
    "    print(\"R^2 Score:\", r2_score(outtest, pred))"
   ],
   "execution_count": null,
   "outputs": []
  },
  {
   "cell_type": "markdown",
   "metadata": {},
   "source": [
    "The linear regression model is executed on the dataset. The path to the CSV file is specified, and model performance is displayed."
   ]
  },
  {
   "cell_type": "code",
   "metadata": {},
   "source": [
    "# Replace this path with your own\n",
    "print(linreg(Path.home() / 'Downloads' / 'Amazon' / 'amzn.us.csv'))"
   ],
   "execution_count": null,
   "outputs": []
  }
 ],
 "metadata": {
  "kernelspec": {
   "display_name": "Python 3",
   "language": "python",
   "name": "python3"
  },
  "language_info": {
   "name": "python",
   "version": ""
  }
 },
 "nbformat": 4,
 "nbformat_minor": 2
}
