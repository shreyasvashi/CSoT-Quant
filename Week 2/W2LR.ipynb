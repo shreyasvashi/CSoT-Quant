{
 "cells": [
  {
   "cell_type": "markdown",
   "metadata": {},
   "source": [
    "# Stock Price Prediction Using Linear Regression\n",
    "\n",
    "Stock closing prices are predicted using a linear regression model. The workflow includes data loading, feature engineering, data cleaning, model training, and evaluation."
   ]
  },
  {
   "cell_type": "markdown",
   "metadata": {},
   "source": [
    "## Features Used\n",
    "\n",
    "- **7DMA**: 7-day moving average of the closing price\n",
    "- **30DMA**: 30-day moving average of the closing price\n",
    "- **RSI**: Relative Strength Index (14-day)"
   ]
  },
  {
   "cell_type": "markdown",
   "metadata": {},
   "source": [
    "## Functions\n",
    "\n",
    "- `dt(loc)`: The CSV dataset is loaded from the given path.\n",
    "- `fillin(loc)`: Missing `Close` values are filled using forward fill.\n",
    "- `markers(loc)`: 7DMA, 30DMA, Return, and RSI are added to the dataset.\n",
    "- `ins(loc)`: Feature columns are prepared for model input.\n",
    "- `outs(loc)`: The target column is prepared for model output.\n",
    "- `linreg(loc)`: The model is trained, evaluated, and performance metrics are printed."
   ]
  },
  {
   "cell_type": "markdown",
   "metadata": {},
   "source": [
    "Required libraries are imported for data manipulation, model training, and evaluation."
   ]
  },
  {
   "cell_type": "code",
   "execution_count": 1,
   "metadata": {},
   "outputs": [],
   "source": [
    "import pandas as pd\n",
    "import numpy as np\n",
    "from sklearn.linear_model import LinearRegression\n",
    "from pathlib import Path\n",
    "from sklearn.model_selection import train_test_split\n",
    "from sklearn.metrics import r2_score, mean_absolute_error\n",
    "import matplotlib.pyplot as plt\n",
    "from sklearn.preprocessing import StandardScaler"
   ]
  },
  {
   "cell_type": "markdown",
   "metadata": {},
   "source": [
    "Data loading and preprocessing functions are defined. The dataset is loaded, missing values are handled, and technical indicators are computed."
   ]
  },
  {
   "cell_type": "code",
   "execution_count": 2,
   "metadata": {},
   "outputs": [],
   "source": [
    "def dt(loc):\n",
    "    stock = pd.read_csv(loc, parse_dates=True)\n",
    "    return stock\n",
    "\n",
    "def fillin(loc):\n",
    "    stock = dt(loc)\n",
    "    g = stock['Close'].isna().cumsum().where(stock['Close'].isna())\n",
    "    stock['Close'] = stock['Close'].where(g.map(g.value_counts()) > 3, stock['Close'].interpolate('linear'))\n",
    "    stock['Close'] = stock['Close'].bfill()\n",
    "    return stock\n",
    "\n",
    "def markers(loc):\n",
    "    stock = fillin(loc)\n",
    "    stock['7DMA'] = stock['Close'].shift(1).rolling(window=7, min_periods=0).mean()\n",
    "    stock['30DMA'] = stock['Close'].shift(1).rolling(window=30, min_periods=0).mean()\n",
    "    stock['Return'] = stock['Close'].shift(1).pct_change() * 100\n",
    "    change = stock['Close'].diff()\n",
    "    avgain = change.where(change > 0, 0).shift(1).rolling(window=14, min_periods=1).sum() / 14\n",
    "    avloss = abs(change.where(change < 0, 0).shift(1).rolling(window=14, min_periods=1).sum()) / 14\n",
    "    stock['RSI'] = (avgain / (avgain + avloss)) * 100\n",
    "    return stock"
   ]
  },
  {
   "cell_type": "markdown",
   "metadata": {},
   "source": [
    "Data cleaning is performed to handle any remaining missing values in the engineered features."
   ]
  },
  {
   "cell_type": "code",
   "execution_count": 3,
   "metadata": {},
   "outputs": [],
   "source": [
    "def clean(loc):\n",
    "    stock = markers(loc)\n",
    "    g = stock['7DMA'].isna().cumsum().where(stock['7DMA'].isna())\n",
    "    stock['7DMA'] = stock['7DMA'].where(g.map(g.value_counts()) > 3, stock['7DMA'].interpolate('linear'))\n",
    "    stock['7DMA'] = stock['7DMA'].bfill()\n",
    "    g = stock['30DMA'].isna().cumsum().where(stock['30DMA'].isna())\n",
    "    stock['30DMA'] = stock['30DMA'].where(g.map(g.value_counts()) > 3, stock['30DMA'].interpolate('linear'))\n",
    "    stock['30DMA'] = stock['30DMA'].bfill()\n",
    "    g = stock['RSI'].isna().cumsum().where(stock['RSI'].isna())\n",
    "    stock['RSI'] = stock['RSI'].where(g.map(g.value_counts()) > 3, stock['RSI'].interpolate('linear'))\n",
    "    stock['RSI'] = stock['RSI'].bfill()\n",
    "    return stock"
   ]
  },
  {
   "cell_type": "markdown",
   "metadata": {},
   "source": [
    "Feature and target extraction functions are defined. Features and targets are extracted for model training and evaluation."
   ]
  },
  {
   "cell_type": "code",
   "execution_count": 4,
   "metadata": {},
   "outputs": [],
   "source": [
    "def ins(loc):\n",
    "    stock = clean(loc)\n",
    "    inputs = pd.DataFrame()\n",
    "    inputs['7DMA'] = stock['7DMA']\n",
    "    inputs['30DMA'] = stock['30DMA']\n",
    "    inputs['RSI'] = stock['RSI']\n",
    "    return inputs\n",
    "\n",
    "def outs(loc):\n",
    "    stock = clean(loc)\n",
    "    outputs = pd.DataFrame()\n",
    "    outputs['Close'] = stock['Close']\n",
    "    return outputs"
   ]
  },
  {
   "cell_type": "markdown",
   "metadata": {},
   "source": [
    "The linear regression workflow is defined. Data is split, the model is trained, predictions are made, and performance metrics are reported."
   ]
  },
  {
   "cell_type": "code",
   "execution_count": 5,
   "metadata": {},
   "outputs": [],
   "source": [
    "def linreg(loc):\n",
    "    stock = clean(loc)\n",
    "    inputs = ins(loc)\n",
    "    outputs = outs(loc)\n",
    "    intrain, intest, outtrain, outtest = train_test_split(inputs, outputs, test_size=0.2, shuffle=False)\n",
    "    lr = LinearRegression()\n",
    "    lr.fit(intrain, outtrain)\n",
    "    pred = lr.predict(intest)\n",
    "    stock['Predicted'] = np.nan\n",
    "    stock.loc[intest.index, 'Predicted'] = pred\n",
    "    print(f\"Coefficients: {lr.coef_}\")\n",
    "    print(f\"Intercept: {lr.intercept_}\")\n",
    "    print(\"Mean Absolute Error:\", mean_absolute_error(outtest, pred))\n",
    "    print(\"R^2 Score:\", r2_score(outtest, pred))\n",
    "    return stock"
   ]
  },
  {
   "cell_type": "code",
   "execution_count": 6,
   "metadata": {},
   "outputs": [],
   "source": [
    "def signal(loc):\n",
    "    stock = linreg(loc)\n",
    "    trainp = stock[stock['Predicted'].isna()]\n",
    "    testp = stock[stock['Predicted'].notna()].copy()\n",
    "    lastknown = trainp['Close'].iloc[-1]\n",
    "    testp['Signal'] = np.where(testp['Predicted'] > lastknown, 'Buy', 'Sell')\n",
    "    testp['Profit'] = abs(testp['Predicted'] - lastknown)\n",
    "    print('Maximum Possible Profit in Test Period:', testp['Predicted'].max() - lastknown)\n",
    "    print('Best Date to Sell:', testp.loc[testp['Predicted'].idxmax()])\n",
    "    return testp"
   ]
  },
  {
   "cell_type": "markdown",
   "metadata": {},
   "source": [
    "The linear regression model is executed on the dataset. The path to the CSV file is specified, and model performance is displayed."
   ]
  },
  {
   "cell_type": "code",
   "execution_count": 7,
   "metadata": {},
   "outputs": [
    {
     "name": "stdout",
     "output_type": "stream",
     "text": [
      "Coefficients: [[0.88736783 0.1154485  0.11187364]]\n",
      "Intercept: [-5.7468903]\n",
      "Mean Absolute Error: 11.923524545199198\n",
      "R^2 Score: 0.9948009246029088\n",
      "Maximum Possible Profit in Test Period: 814.4417054055914\n",
      "Best Date to Sell: Date          2017-11-10\n",
      "Open              1126.1\n",
      "High             1131.75\n",
      "Low              1124.06\n",
      "Close            1125.35\n",
      "Volume           2179181\n",
      "OpenInt                0\n",
      "7DMA         1116.477143\n",
      "30DMA        1026.415333\n",
      "Return         -0.331015\n",
      "RSI            82.187197\n",
      "Predicted    1112.671705\n",
      "Signal               Buy\n",
      "Profit        814.441705\n",
      "Name: 5152, dtype: object\n",
      "            Date     Open     High      Low    Close   Volume  OpenInt  \\\n",
      "4122  2013-10-10   304.65   306.70   302.59   305.17  2556190        0   \n",
      "4123  2013-10-11   304.77   310.93   303.84   310.89  2162268        0   \n",
      "4124  2013-10-14   309.22   311.64   307.00   310.70  1938900        0   \n",
      "4125  2013-10-15   309.92   310.79   305.26   306.40  2261100        0   \n",
      "4126  2013-10-16   308.38   310.80   305.55   310.49  2178262        0   \n",
      "...          ...      ...      ...      ...      ...      ...      ...   \n",
      "5148  2017-11-06  1109.15  1125.41  1108.77  1120.66  3331738        0   \n",
      "5149  2017-11-07  1124.74  1130.60  1117.50  1123.17  2684443        0   \n",
      "5150  2017-11-08  1122.82  1135.54  1119.11  1132.88  2576010        0   \n",
      "5151  2017-11-09  1125.96  1129.62  1115.77  1129.13  3729978        0   \n",
      "5152  2017-11-10  1126.10  1131.75  1124.06  1125.35  2179181        0   \n",
      "\n",
      "             7DMA        30DMA    Return        RSI    Predicted Signal  \\\n",
      "4122   312.392857   304.262667 -1.648913  39.159743   310.968094    Buy   \n",
      "4123   310.138571   305.049000  2.327063  41.595184   309.330956    Buy   \n",
      "4124   308.764286   305.946000  1.874365  49.554367   309.105439    Buy   \n",
      "4125   308.184286   306.936667 -0.061115  47.356251   308.459226    Buy   \n",
      "4126   306.378571   307.523333 -1.383972  45.383365   306.703909    Buy   \n",
      "...           ...          ...       ...        ...          ...    ...   \n",
      "5148  1085.572857  1002.409333  1.588346  72.771720  1081.423436    Buy   \n",
      "5149  1106.748571  1008.438333  0.815041  73.490880  1100.990578    Buy   \n",
      "5150  1109.922857  1014.590667  0.223975  77.696799  1104.988146    Buy   \n",
      "5151  1113.070000  1020.657667  0.864517  82.205293  1108.985627    Buy   \n",
      "5152  1116.477143  1026.415333 -0.331015  82.187197  1112.671705    Buy   \n",
      "\n",
      "          Profit  \n",
      "4122   12.738094  \n",
      "4123   11.100956  \n",
      "4124   10.875439  \n",
      "4125   10.229226  \n",
      "4126    8.473909  \n",
      "...          ...  \n",
      "5148  783.193436  \n",
      "5149  802.760578  \n",
      "5150  806.758146  \n",
      "5151  810.755627  \n",
      "5152  814.441705  \n",
      "\n",
      "[1031 rows x 14 columns]\n"
     ]
    }
   ],
   "source": [
    "# Replace this path with your own\n",
    "print(signal(Path.home() / 'Downloads' / 'Amazon' / 'amzn.us.csv'))"
   ]
  }
 ],
 "metadata": {
  "kernelspec": {
   "display_name": "Python 3",
   "language": "python",
   "name": "python3"
  },
  "language_info": {
   "codemirror_mode": {
    "name": "ipython",
    "version": 3
   },
   "file_extension": ".py",
   "mimetype": "text/x-python",
   "name": "python",
   "nbconvert_exporter": "python",
   "pygments_lexer": "ipython3",
   "version": "3.12.4"
  }
 },
 "nbformat": 4,
 "nbformat_minor": 5
}
