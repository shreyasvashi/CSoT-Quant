{
 "cells": [
  {
   "cell_type": "markdown",
   "metadata": {},
   "source": [
    "# ARIMA Forecasting on Stock Price Data\n",
    "\n",
    "Time series analysis is performed using an ARIMA(0,1,0) model on stock price data. The workflow includes missing value handling, technical indicator computation, model fitting, forecast visualization, and trading signal generation."
   ]
  },
  {
   "cell_type": "markdown",
   "metadata": {},
   "source": [
    "## Library Imports\n",
    "\n",
    "Required libraries for data manipulation, modeling, and visualization are imported."
   ]
  },
  {
   "cell_type": "code",
   "execution_count": null,
   "metadata": {},
   "outputs": [],
   "source": [
    "import pandas as pd\n",
    "import numpy as np\n",
    "from sklearn.ensemble import RandomForestRegressor\n",
    "from pathlib import Path\n",
    "from sklearn.model_selection import train_test_split\n",
    "from sklearn.metrics import r2_score, mean_absolute_error\n",
    "import matplotlib.pyplot as plt\n",
    "from statsmodels.tsa.arima.model import ARIMA"
   ]
  },
  {
   "cell_type": "markdown",
   "metadata": {},
   "source": [
    "## Function: `dt(loc)`\n",
    "\n",
    "A CSV file containing stock data is read, and dates are parsed to ensure proper time series handling."
   ]
  },
  {
   "cell_type": "code",
   "execution_count": null,
   "metadata": {},
   "outputs": [],
   "source": [
    "def dt(loc):\n",
    "    stock = pd.read_csv(loc, parse_dates=True)\n",
    "    return stock"
   ]
  },
  {
   "cell_type": "markdown",
   "metadata": {},
   "source": [
    "## Function: `fillin(loc)`\n",
    "\n",
    "Missing values in the 'Close' column are handled using linear interpolation for small gaps and backfilling for any remaining missing values."
   ]
  },
  {
   "cell_type": "code",
   "execution_count": null,
   "metadata": {},
   "outputs": [],
   "source": [
    "def fillin(loc):\n",
    "    stock = dt(loc)\n",
    "    g = stock['Close'].isna().cumsum().where(stock['Close'].isna())\n",
    "    stock['Close'] = stock['Close'].where(g.map(g.value_counts()) > 3, stock['Close'].interpolate('linear'))\n",
    "    stock['Close'] = stock['Close'].bfill()\n",
    "    return stock"
   ]
  },
  {
   "cell_type": "markdown",
   "metadata": {},
   "source": [
    "## Function: `markers(loc)`\n",
    "\n",
    "Technical indicators such as the 7-day and 30-day moving averages, daily returns, and the 14-day Relative Strength Index (RSI) are computed and added to the dataset."
   ]
  },
  {
   "cell_type": "code",
   "execution_count": null,
   "metadata": {},
   "outputs": [],
   "source": [
    "def markers(loc):\n",
    "    stock = fillin(loc)\n",
    "    stock['7DMA'] = stock['Close'].shift(1).rolling(window=7, min_periods=0).mean()\n",
    "    stock['30DMA'] = stock['Close'].shift(1).rolling(window=30, min_periods=0).mean()\n",
    "    stock['Return'] = stock['Close'].shift(1).pct_change() * 100\n",
    "    change = stock['Close'].diff()\n",
    "    avgain = change.where(change > 0, 0).shift(1).rolling(window=14, min_periods=1).sum() / 14\n",
    "    avloss = abs(change.where(change < 0, 0).shift(1).rolling(window=14, min_periods=1).sum()) / 14\n",
    "    stock['RSI'] = (avgain / (avgain + avloss)) * 100\n",
    "    return stock"
   ]
  },
  {
   "cell_type": "markdown",
   "metadata": {},
   "source": [
    "## Function: `ins(loc)`\n",
    "\n",
    "The 'Close' column is extracted for use as the input series in ARIMA modeling."
   ]
  },
  {
   "cell_type": "code",
   "execution_count": null,
   "metadata": {},
   "outputs": [],
   "source": [
    "def ins(loc):\n",
    "    stock = markers(loc)\n",
    "    inp = pd.DataFrame()\n",
    "    inp['Close'] = stock['Close']\n",
    "    return inp"
   ]
  },
  {
   "cell_type": "markdown",
   "metadata": {},
   "source": [
    "## Function: `arima(loc)`\n",
    "\n",
    "An ARIMA(0,1,0) model is fitted to the training data. Forecasts for the test period are generated and visualized with confidence intervals. Model performance is evaluated using Mean Absolute Error (MAE)."
   ]
  },
  {
   "cell_type": "code",
   "execution_count": null,
   "metadata": {},
   "outputs": [],
   "source": [
    "def arima(loc):\n",
    "    inp = ins(loc)\n",
    "    stock = markers(loc)\n",
    "    dtrain, dtest = inp[:int(len(inp) * 0.8)], inp[int(len(inp) * 0.8):]\n",
    "    makem = ARIMA(dtrain, order=(0, 1, 0))\n",
    "    fitm = makem.fit()\n",
    "    pred = fitm.get_forecast(steps=len(dtest))\n",
    "    stock['Predicted'] = np.nan\n",
    "    predvalues = pred.predicted_mean.values\n",
    "    stock.loc[dtest.index, 'Predicted'] = predvalues\n",
    "    confint = pred.conf_int()\n",
    "    mae = mean_absolute_error(dtest['Close'], predvalues)\n",
    "    print(f'MAE: {mae:.2f}')\n",
    "    plt.figure(figsize=(12, 6))\n",
    "    plt.plot(dtrain.index, dtrain['Close'], label='Train')\n",
    "    plt.plot(dtest.index, dtest['Close'], label='Actual')\n",
    "    plt.plot(dtest.index, predvalues, color='red', label='Prediction')\n",
    "    plt.fill_between(dtest.index, confint.iloc[:, 0], confint.iloc[:, 1], color='pink', alpha=0.3)\n",
    "    plt.xlabel('Index')\n",
    "    plt.ylabel('Close Price')\n",
    "    plt.title('ARIMA(0,1,0) Forecast vs Actual')\n",
    "    plt.legend()\n",
    "    plt.show()\n",
    "    return stock"
   ]
  },
  {
   "cell_type": "code",
   "execution_count": null,
   "metadata": {},
   "outputs": [],
   "source": [
    "def signal(loc):\n",
    "    stock = arima(loc)\n",
    "    trainp = stock[stock['Predicted'].isna()]\n",
    "    testp = stock[stock['Predicted'].notna()].copy()\n",
    "    testp['Predicted'] = testp['Predicted'].astype(float)\n",
    "    lastknown = trainp['Close'].iloc[-1]\n",
    "    testp['Signal'] = np.where(testp['Predicted'] > lastknown, 'Buy', np.where(testp['Predicted'] < lastknown, 'Sell', '--'))\n",
    "    testp['Profit'] = abs(testp['Predicted'] - lastknown)\n",
    "    print('Maximum Possible Profit in Test Period:', testp['Predicted'].max() - lastknown)\n",
    "    print('Best Date to Sell:', testp.loc[testp['Predicted'].idxmax()])\n",
    "    return testp"
   ]
  },
  {
   "cell_type": "markdown",
   "metadata": {},
   "source": [
    "## Running the ARIMA Model\n",
    "\n",
    "The ARIMA workflow is executed on the specified dataset. Model evaluation metrics, trading signals, and profit calculations are displayed."
   ]
  },
  {
   "cell_type": "code",
   "execution_count": null,
   "metadata": {},
   "outputs": [],
   "source": [
    "# Replace this path with your own\n",
    "print(signal(Path.home() / 'Downloads' / 'Amazon' / 'amzn.us.csv'))"
   ]
  }
 ],
 "metadata": {
  "kernelspec": {
   "display_name": "Python 3",
   "language": "python",
   "name": "python3"
  },
  "language_info": {
   "name": "python",
   "version": "3.12.4"
  }
 },
 "nbformat": 4,
 "nbformat_minor": 5
}
